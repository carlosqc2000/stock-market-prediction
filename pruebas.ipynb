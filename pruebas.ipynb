{
 "cells": [
  {
   "cell_type": "code",
   "execution_count": 1,
   "metadata": {},
   "outputs": [
    {
     "name": "stdout",
     "output_type": "stream",
     "text": [
      "Connection to MongoDB established.\n",
      "Colecciones disponibles: ['Prices']\n"
     ]
    }
   ],
   "source": [
    "# Importar la clase MongoRepository desde repository.py\n",
    "import sys\n",
    "sys.path.append(\"../\")  # Ajusta la ruta según la ubicación del archivo repository.py\n",
    "\n",
    "from database.mongo_db.repository import MongoRepository\n",
    "from bson import ObjectId  # Importar ObjectId por si lo necesitas para futuras pruebas\n",
    "\n",
    "repo = MongoRepository()\n",
    "\n",
    "# Listar colecciones\n",
    "collections = repo.list_collections()\n",
    "print(\"Colecciones disponibles:\", collections)"
   ]
  },
  {
   "cell_type": "code",
   "execution_count": 2,
   "metadata": {},
   "outputs": [
    {
     "name": "stdout",
     "output_type": "stream",
     "text": [
      "Connection to MongoDB established.\n",
      "Price inserted: 2024-12-23\n",
      "Inserción de precio completada.\n"
     ]
    }
   ],
   "source": [
    "# Crear una instancia del repositorio\n",
    "repo = MongoRepository()\n",
    "\n",
    "# Datos de ejemplo para un precio\n",
    "price_data = {\n",
    "    \"symbol\": \"AAPL\",\n",
    "    \"date\": \"2024-12-23\",\n",
    "    \"open\": 150.5,\n",
    "    \"high\": 155.0,\n",
    "    \"low\": 148.0,\n",
    "    \"close\": 152.5,\n",
    "    \"volume\": 1000000\n",
    "}\n",
    "\n",
    "# Intentar insertar el precio\n",
    "try:\n",
    "    repo.create_price(price_data)\n",
    "    print(\"Inserción de precio completada.\")\n",
    "except Exception as e:\n",
    "    print(f\"Error al insertar precio: {e}\")\n"
   ]
  },
  {
   "cell_type": "code",
   "execution_count": 5,
   "metadata": {},
   "outputs": [
    {
     "name": "stdout",
     "output_type": "stream",
     "text": [
      "Price deleted: 676d9ca50b7e401ce257310d\n"
     ]
    }
   ],
   "source": [
    "repo.delete_price_by_id(price_id=ObjectId('676d9ca50b7e401ce257310d'))"
   ]
  },
  {
   "cell_type": "code",
   "execution_count": 3,
   "metadata": {},
   "outputs": [
    {
     "name": "stdout",
     "output_type": "stream",
     "text": [
      "{'_id': ObjectId('676d9ca50b7e401ce257310d'), 'symbol': 'AAPL', 'date': '2024-12-23', 'open': 150.5, 'high': 155.0, 'low': 148.0, 'close': 152.5, 'volume': 1000000}\n"
     ]
    }
   ],
   "source": [
    "print(repo.read_price_by_id(price_id=ObjectId('676d9ca50b7e401ce257310d')))"
   ]
  },
  {
   "cell_type": "code",
   "execution_count": 4,
   "metadata": {},
   "outputs": [
    {
     "name": "stdout",
     "output_type": "stream",
     "text": [
      "Price updated: 676d9ca50b7e401ce257310d\n"
     ]
    }
   ],
   "source": [
    "data_nueva = {\n",
    "    \"symbol\": \"AAPL\",\n",
    "    \"date\": \"2024-12-99\",\n",
    "    \"open\": 150.5,\n",
    "    \"high\": 155.0,\n",
    "    \"low\": 148.0,\n",
    "    \"close\": 152.5,\n",
    "    \"volume\": 5\n",
    "}\n",
    "repo.update_price_by_id(price_id=ObjectId('676d9ca50b7e401ce257310d'), new_data= data_nueva)"
   ]
  },
  {
   "cell_type": "code",
   "execution_count": 1,
   "metadata": {},
   "outputs": [
    {
     "name": "stdout",
     "output_type": "stream",
     "text": [
      "Connection to MongoDB established.\n",
      "News inserted: Apple launches new product\n"
     ]
    }
   ],
   "source": [
    "from bson.objectid import ObjectId\n",
    "from database.mongo_db.repository import MongoRepository\n",
    "\n",
    "# Initialize the repository\n",
    "repo = MongoRepository()\n",
    "\n",
    "# News data to insert\n",
    "news_data = {\n",
    "    \"symbol\": \"AAPL\",\n",
    "    \"title\": \"Apple launches new product\",\n",
    "    \"summary\": \"Apple has announced a new product that is expected to disrupt the market.\",\n",
    "    \"time_published\": \"2024-12-25T12:00:00Z\",\n",
    "    \"sentiment\": \"Positive\"\n",
    "}\n",
    "\n",
    "# Insert the news\n",
    "repo.create_news(news_data)"
   ]
  },
  {
   "cell_type": "code",
   "execution_count": 2,
   "metadata": {},
   "outputs": [
    {
     "name": "stdout",
     "output_type": "stream",
     "text": [
      "{'_id': ObjectId('676d9d9b66ba0d6d88b6cd2f'), 'symbol': 'AAPL', 'title': 'Apple launches new product', 'summary': 'Apple has announced a new product that is expected to disrupt the market.', 'time_published': '2024-12-25T12:00:00Z', 'sentiment': 'Positive'}\n"
     ]
    }
   ],
   "source": [
    "print(repo.read_news_by_id(news_id=ObjectId('676d9d9b66ba0d6d88b6cd2f')))"
   ]
  },
  {
   "cell_type": "code",
   "execution_count": 3,
   "metadata": {},
   "outputs": [
    {
     "name": "stdout",
     "output_type": "stream",
     "text": [
      "News updated: 676d9d9b66ba0d6d88b6cd2f\n"
     ]
    }
   ],
   "source": [
    "nueva_data = {\n",
    "    \"symbol\": \"AAPL\",\n",
    "    \"title\": \"Apple dont launch a new product\",\n",
    "    \"summary\": \"Apple has announced a new product that is expected to disrupt the market.\",\n",
    "    \"time_published\": \"2024-12-25T12:00:00Z\",\n",
    "    \"sentiment\": \"Negative\"\n",
    "}\n",
    "repo.update_news_by_id(news_id=ObjectId('676d9d9b66ba0d6d88b6cd2f'),new_data=nueva_data)"
   ]
  },
  {
   "cell_type": "code",
   "execution_count": 5,
   "metadata": {},
   "outputs": [
    {
     "name": "stdout",
     "output_type": "stream",
     "text": [
      "No news found with ID: 676d9d9b66ba0d6d88b6cd2f\n"
     ]
    }
   ],
   "source": [
    "repo.delete_news_by_id(news_id=ObjectId('676d9d9b66ba0d6d88b6cd2f'))"
   ]
  }
 ],
 "metadata": {
  "kernelspec": {
   "display_name": "env",
   "language": "python",
   "name": "python3"
  },
  "language_info": {
   "codemirror_mode": {
    "name": "ipython",
    "version": 3
   },
   "file_extension": ".py",
   "mimetype": "text/x-python",
   "name": "python",
   "nbconvert_exporter": "python",
   "pygments_lexer": "ipython3",
   "version": "3.11.9"
  }
 },
 "nbformat": 4,
 "nbformat_minor": 2
}
