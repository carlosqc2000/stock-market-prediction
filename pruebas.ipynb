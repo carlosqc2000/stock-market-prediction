{
 "cells": [
  {
   "cell_type": "code",
   "execution_count": 1,
   "metadata": {},
   "outputs": [
    {
     "name": "stdout",
     "output_type": "stream",
     "text": [
      "Conexión a MongoDB establecida.\n",
      "Colecciones disponibles: ['Prices']\n"
     ]
    }
   ],
   "source": [
    "# Importar la clase MongoRepository desde repository.py\n",
    "import sys\n",
    "sys.path.append(\"../\")  # Ajusta la ruta según la ubicación del archivo repository.py\n",
    "\n",
    "from database.mongo_db.repository import MongoRepository\n",
    "from bson import ObjectId  # Importar ObjectId por si lo necesitas para futuras pruebas\n",
    "\n",
    "repo = MongoRepository()\n",
    "\n",
    "# Listar colecciones\n",
    "collections = repo.list_collections()\n",
    "print(\"Colecciones disponibles:\", collections)"
   ]
  },
  {
   "cell_type": "code",
   "execution_count": 2,
   "metadata": {},
   "outputs": [
    {
     "name": "stdout",
     "output_type": "stream",
     "text": [
      "Conexión a MongoDB establecida.\n",
      "Precio insertado: 2024-12-23\n",
      "Inserción de precio completada.\n"
     ]
    }
   ],
   "source": [
    "# Crear una instancia del repositorio\n",
    "repo = MongoRepository()\n",
    "\n",
    "# Datos de ejemplo para un precio\n",
    "price_data = {\n",
    "    \"symbol\": \"AAPL\",\n",
    "    \"date\": \"2024-12-23\",\n",
    "    \"open\": 150.5,\n",
    "    \"high\": 155.0,\n",
    "    \"low\": 148.0,\n",
    "    \"close\": 152.5,\n",
    "    \"volume\": 1000000\n",
    "}\n",
    "\n",
    "# Intentar insertar el precio\n",
    "try:\n",
    "    repo.create_price(price_data)\n",
    "    print(\"Inserción de precio completada.\")\n",
    "except Exception as e:\n",
    "    print(f\"Error al insertar precio: {e}\")\n"
   ]
  },
  {
   "cell_type": "code",
   "execution_count": 15,
   "metadata": {},
   "outputs": [
    {
     "name": "stdout",
     "output_type": "stream",
     "text": [
      "Precio eliminado: 676d56371c3321b79fb94651\n"
     ]
    }
   ],
   "source": [
    "repo.delete_price_by_id(price_id=ObjectId('676d56371c3321b79fb94651'))"
   ]
  },
  {
   "cell_type": "code",
   "execution_count": 16,
   "metadata": {},
   "outputs": [
    {
     "name": "stdout",
     "output_type": "stream",
     "text": [
      "None\n"
     ]
    }
   ],
   "source": [
    "print(repo.read_price_by_id(price_id=ObjectId('676d56371c3321b79fb94651')))"
   ]
  },
  {
   "cell_type": "code",
   "execution_count": 14,
   "metadata": {},
   "outputs": [
    {
     "name": "stdout",
     "output_type": "stream",
     "text": [
      "Precio actualizado: 676d56371c3321b79fb94651\n"
     ]
    }
   ],
   "source": [
    "data_nueva = {\n",
    "    \"symbol\": \"AAPL\",\n",
    "    \"date\": \"2024-12-99\",\n",
    "    \"open\": 150.5,\n",
    "    \"high\": 155.0,\n",
    "    \"low\": 148.0,\n",
    "    \"close\": 152.5,\n",
    "    \"volume\": 5\n",
    "}\n",
    "repo.update_price_by_id(price_id=ObjectId('676d56371c3321b79fb94651'), new_data= data_nueva)"
   ]
  }
 ],
 "metadata": {
  "kernelspec": {
   "display_name": "env",
   "language": "python",
   "name": "python3"
  },
  "language_info": {
   "codemirror_mode": {
    "name": "ipython",
    "version": 3
   },
   "file_extension": ".py",
   "mimetype": "text/x-python",
   "name": "python",
   "nbconvert_exporter": "python",
   "pygments_lexer": "ipython3",
   "version": "3.11.9"
  }
 },
 "nbformat": 4,
 "nbformat_minor": 2
}
